{
 "cells": [
  {
   "cell_type": "markdown",
   "id": "efaf46d7",
   "metadata": {},
   "source": [
    "# Question 1"
   ]
  },
  {
   "cell_type": "code",
   "execution_count": 1,
   "id": "dabc92c9",
   "metadata": {},
   "outputs": [
    {
     "name": "stdout",
     "output_type": "stream",
     "text": [
      "2\n",
      "4\n",
      "6\n"
     ]
    }
   ],
   "source": [
    "a = 0 #Start of given code\n",
    "\n",
    "def b():\n",
    "    global a #Globalizing the variable -> Adds nothing off value\n",
    "    a = c(a) #Calling function C\n",
    "    \n",
    "def c(a):\n",
    "    return a + 2 #Every call adds 2 to 'a' starting at 0\n",
    "\n",
    "b() #a=0\n",
    "print (a) #a=2\n",
    "\n",
    "b() #a=2\n",
    "print (a) #a=4\n",
    "\n",
    "b() #a=4\n",
    "print (a) #a=6"
   ]
  },
  {
   "cell_type": "markdown",
   "id": "d3ccbe90",
   "metadata": {},
   "source": [
    "a=6, a is a global variable and everytime b() is executed, it calls upon method c(a), it adds up 2 to the value of a."
   ]
  },
  {
   "cell_type": "markdown",
   "id": "de297218",
   "metadata": {},
   "source": [
    "# Question 2"
   ]
  },
  {
   "cell_type": "code",
   "execution_count": 3,
   "id": "fa920702",
   "metadata": {},
   "outputs": [],
   "source": [
    "import os.path #Library to check if file exists\n",
    "\n",
    "def file_length(file_name): #Function definition\n",
    "    \n",
    "    if (os.path.exists(file_name)): #os.path.exists() returns TRUE or FALSE, if TRUE, find size of file\n",
    "    \n",
    "        file = open(file_name) #Open file and store it in 'file' variable\n",
    "        contents = file.read() #Read file and store it in 'contents' variable\n",
    "        file.close() #Close file\n",
    "        print(len(contents)) #Print the lenght of the content from 'contents' variable\n",
    "    \n",
    "    else: #If os.path.exists() returns FALSE, inform user the file does not exist\n",
    "        print (\"File Does Not Exist\")"
   ]
  },
  {
   "cell_type": "code",
   "execution_count": 4,
   "id": "c8080b0d",
   "metadata": {},
   "outputs": [
    {
     "name": "stdout",
     "output_type": "stream",
     "text": [
      "123\n"
     ]
    }
   ],
   "source": [
    "file_length(\"FileLength.txt\")"
   ]
  },
  {
   "cell_type": "markdown",
   "id": "b20ab9c5",
   "metadata": {},
   "source": [
    "# Question 3"
   ]
  },
  {
   "cell_type": "code",
   "execution_count": 39,
   "id": "ad5e3cc8",
   "metadata": {},
   "outputs": [],
   "source": [
    "class Marsupial(object):\n",
    "    def __init__(self):\n",
    "        self.pouch_contents=[]\n",
    "\n",
    "    def put_in_pouch(self, item):\n",
    "        self.pouch_contents.append(item)\n",
    "\n",
    "    def pouch_contentsto(self):\n",
    "        print(f\"{self.pouch_contents}\")\n",
    "\n",
    "class Kangaroo(Marsupial):\n",
    "    def __init__(self, jumpx, jumpy):\n",
    "        self.jumpx = jumpx\n",
    "        self.jumpy = jumpy\n",
    "        super().__init__()\n",
    "    def __str__(self):\n",
    "        return(f\"I am a Kangaroo located at coordinates ({self.jumpx},{self.jumpy})\")\n",
    "\n",
    "    def jump(self, jumpx, jumpy):\n",
    "        self.jumpx+=jumpx\n",
    "        self.jumpy+=jumpy"
   ]
  },
  {
   "cell_type": "code",
   "execution_count": 40,
   "id": "2139b53f",
   "metadata": {},
   "outputs": [],
   "source": [
    " m = Marsupial()"
   ]
  },
  {
   "cell_type": "code",
   "execution_count": 41,
   "id": "2b576044",
   "metadata": {},
   "outputs": [
    {
     "name": "stdout",
     "output_type": "stream",
     "text": [
      "['doll', 'firetruck', 'kitten']\n"
     ]
    }
   ],
   "source": [
    "m.put_in_pouch('doll')\n",
    "m.put_in_pouch('firetruck')\n",
    "m.put_in_pouch('kitten')\n",
    "m.pouch_contentsto()\n"
   ]
  },
  {
   "cell_type": "code",
   "execution_count": 42,
   "id": "f3da277f",
   "metadata": {},
   "outputs": [
    {
     "name": "stdout",
     "output_type": "stream",
     "text": [
      "I am a Kangaroo located at coordinates (0,0)\n"
     ]
    }
   ],
   "source": [
    "k = Kangaroo(0,0)\n",
    "print(k)"
   ]
  },
  {
   "cell_type": "code",
   "execution_count": 43,
   "id": "27577927",
   "metadata": {},
   "outputs": [
    {
     "name": "stdout",
     "output_type": "stream",
     "text": [
      "['doll', 'firetruck', 'kitten']\n"
     ]
    }
   ],
   "source": [
    "k.put_in_pouch('doll')\n",
    "k.put_in_pouch('firetruck')\n",
    "k.put_in_pouch('kitten')\n",
    "k.pouch_contentsto()"
   ]
  },
  {
   "cell_type": "code",
   "execution_count": 44,
   "id": "d78eb28c",
   "metadata": {},
   "outputs": [
    {
     "name": "stdout",
     "output_type": "stream",
     "text": [
      "I am a Kangaroo located at coordinates (3,0)\n"
     ]
    }
   ],
   "source": [
    "k.jump(1,0)\n",
    "k.jump(1,0)\n",
    "k.jump(1,0)\n",
    "print(k)"
   ]
  },
  {
   "cell_type": "markdown",
   "id": "28359e3c",
   "metadata": {},
   "source": [
    "# Question 4"
   ]
  },
  {
   "cell_type": "code",
   "execution_count": 6,
   "id": "03cadce3",
   "metadata": {},
   "outputs": [
    {
     "name": "stdout",
     "output_type": "stream",
     "text": [
      "Please enter a postive integer (not zero): 5\n",
      "5\n",
      "16\n",
      "8\n",
      "4\n",
      "2\n",
      "1\n"
     ]
    }
   ],
   "source": [
    "\n",
    "def collatz(positive_integer): #Defining the function collatz with 'positive_integer' as the parameter\n",
    "    \n",
    "    if (positive_integer>1):\n",
    "    \n",
    "        if ((positive_integer%2)==0): #Making sure the quotient when divided by 2 is zero -> Indicating an even number\n",
    "            new_integer=positive_integer/2 #Operation as indicated by the question\n",
    "            new_integer=int(new_integer) #Ensuring it is stored in integer format and not in decimals\n",
    "            print (new_integer) #Printing the variable after operation\n",
    "            collatz (new_integer) #Recursive call for collatz function with the new integer generated after the operation\n",
    "            \n",
    "        else: #If not an even number based on above IF condition\n",
    "            new_integer=(3*positive_integer)+1 #Operation as indicated by the question\n",
    "            new_integer=int(new_integer) #Ensuring it is stored in integer format and not in decimals\n",
    "            print (new_integer) #Printing the variable after operation\n",
    "            collatz (new_integer) #Recursive call for collatz function with the new integer generated after the operation\n",
    "\n",
    "#Code starts here\n",
    "user_integer = input (\"Please enter a postive integer (not zero): \") #Getting user input\n",
    "\n",
    "if (user_integer.isdigit()): #Checking if the entered input is numerical\n",
    "    \n",
    "    if (int(user_integer)>0): #Checking if the entered input is more than zero\n",
    "        \n",
    "        postive_integer=int(user_integer) #Setting the 'postive integer' variable that is passed to the function\n",
    "        \n",
    "        print (postive_integer) #Printing the newly set 'positive integer' as the first value for the collatz sequence \n",
    "        collatz(postive_integer) #Passing the 'postive integer' to the collatz function\n",
    "    \n",
    "    else: #Reject input if value less is zero or less\n",
    "        print (\"Input not valid\")\n",
    "    \n",
    "else: #Rejecting input if the value is not numerical\n",
    "    print (\"Input not valid\")"
   ]
  },
  {
   "cell_type": "markdown",
   "id": "356ead73",
   "metadata": {},
   "source": [
    "# Question 5"
   ]
  },
  {
   "cell_type": "code",
   "execution_count": 7,
   "id": "2dfb6399",
   "metadata": {},
   "outputs": [],
   "source": [
    "def binary (n): #Function definition for binary()\n",
    "    \n",
    "    if (n>1): #If the given number is more than 1 (loops until n=0 or n=1)\n",
    "    \n",
    "        temporary_list.append(int(n%2)) #Inserting remainder into the temporary list\n",
    "        binary (int(n/2)) #Recursive call for binary() function -> (loops until n=0 or n=1)\n",
    "        \n",
    "    else:\n",
    "        temporary_list.append(int(n)) #Inserting the final number (1 or 0) into the temporary list\n",
    "        reversed_list = list(reversed(temporary_list)) #Reversing the list\n",
    "        \n",
    "        binary_store=\"\" #Binary store variable\n",
    "        \n",
    "        for i in (reversed_list): #Iterating over the reversed list to pick item from index 0 to the end of list\n",
    "            binary_store+=str(i) #Concatinating the element at index as string (string used for concatination purpose)\n",
    "        \n",
    "        binary_store=int(binary_store) #Converting binary_store to integer\n",
    "        print (binary_store) #Printing binary in integer format\n",
    "        \n",
    "temporary_list=[] #Creating a temporary list to store remainders from the operation"
   ]
  },
  {
   "cell_type": "code",
   "execution_count": 8,
   "id": "f348a97c",
   "metadata": {},
   "outputs": [
    {
     "name": "stdout",
     "output_type": "stream",
     "text": [
      "0\n"
     ]
    }
   ],
   "source": [
    "binary(0)"
   ]
  },
  {
   "cell_type": "code",
   "execution_count": 9,
   "id": "6b6c1782",
   "metadata": {},
   "outputs": [
    {
     "name": "stdout",
     "output_type": "stream",
     "text": [
      "10\n"
     ]
    }
   ],
   "source": [
    " binary(1)"
   ]
  },
  {
   "cell_type": "code",
   "execution_count": 10,
   "id": "488a1e82",
   "metadata": {},
   "outputs": [
    {
     "name": "stdout",
     "output_type": "stream",
     "text": [
      "1110\n"
     ]
    }
   ],
   "source": [
    "binary(3)"
   ]
  },
  {
   "cell_type": "code",
   "execution_count": 11,
   "id": "89a816d5",
   "metadata": {},
   "outputs": [
    {
     "name": "stdout",
     "output_type": "stream",
     "text": [
      "10011110\n"
     ]
    }
   ],
   "source": [
    " binary(9)"
   ]
  },
  {
   "cell_type": "markdown",
   "id": "c2471977",
   "metadata": {},
   "source": [
    "# Question 6"
   ]
  },
  {
   "cell_type": "code",
   "execution_count": 12,
   "id": "9c37fb9e",
   "metadata": {},
   "outputs": [],
   "source": [
    "from html.parser import HTMLParser\t#Import the module for parser\n",
    "\n",
    "class HeadingParser(HTMLParser): #Class definition\n",
    "    \n",
    "    inHeadingh1 = False\n",
    "    inHeadingh2 = False \n",
    "    \n",
    "    def handle_starttag(self, tag, attrs): #Triggered when opening tag is encountered\n",
    "        \n",
    "        if tag == \"h1\": #If tag is <h1>\n",
    "            self.inHeadingh1 = True #Denotes parser is at <h1>\n",
    "            \n",
    "        if tag == \"h2\": #If tag is <h2>\n",
    "            self.inHeadingh1 = True #Denotes parser is at <h2>\n",
    "    \n",
    "    def handle_data(self, data):\n",
    "        \n",
    "        if self.inHeadingh1 == True: #If parser is at <h1>\n",
    "            print (data) #Print without indent\n",
    "            \n",
    "        if self.inHeadingh2 == True: #If parser is at <h2>\n",
    "            print (\" \"+data) #Print with indent\n",
    "    \n",
    "    def handle_endtag(self, tag): #Triggered when end of tag is encountered\t\t\t\n",
    "        \n",
    "        if tag == \"h1\": #If tag is <h1>\n",
    "            self.inHeadingh1 = False #Parser set to default\n",
    "            \n",
    "        if tag == \"h2\": #If tag is <h2>\n",
    "            self.inHeadingh2 = False #Parser set to default"
   ]
  },
  {
   "cell_type": "code",
   "execution_count": 14,
   "id": "5148b381",
   "metadata": {},
   "outputs": [],
   "source": [
    "infile = open('w3c.html')"
   ]
  },
  {
   "cell_type": "code",
   "execution_count": 15,
   "id": "8b366bfa",
   "metadata": {},
   "outputs": [],
   "source": [
    " content = infile.read()"
   ]
  },
  {
   "cell_type": "code",
   "execution_count": 16,
   "id": "720fe7a7",
   "metadata": {},
   "outputs": [],
   "source": [
    "infile.close()"
   ]
  },
  {
   "cell_type": "code",
   "execution_count": 17,
   "id": "005f5184",
   "metadata": {},
   "outputs": [],
   "source": [
    " hp = HeadingParser()"
   ]
  },
  {
   "cell_type": "code",
   "execution_count": 18,
   "id": "8b189e5d",
   "metadata": {},
   "outputs": [
    {
     "name": "stdout",
     "output_type": "stream",
     "text": [
      "W3C Mission\n",
      " Principles\n",
      "\n",
      " \n",
      "\n",
      "\n",
      "\n",
      "\n",
      "\n"
     ]
    }
   ],
   "source": [
    "hp.feed(content)"
   ]
  },
  {
   "cell_type": "markdown",
   "id": "eb4a8926",
   "metadata": {},
   "source": [
    "# Question 7"
   ]
  },
  {
   "cell_type": "code",
   "execution_count": 19,
   "id": "d5fbd16a",
   "metadata": {},
   "outputs": [],
   "source": [
    "from bs4 import BeautifulSoup\n",
    "import requests\n",
    "\n",
    "def webdir (siteurl, depth, indent):\n",
    "    print (siteurl)\n",
    "    \n",
    "    reqs = requests.get(siteurl)\n",
    "    soup = BeautifulSoup(reqs.text, 'html.parser')\n",
    "    \n",
    "    urls = []\n",
    "    \n",
    "    for link in soup.find_all('a'):\n",
    "        urls.append(link.get('href'))\n",
    "        \n",
    "    print (urls)"
   ]
  },
  {
   "cell_type": "code",
   "execution_count": 20,
   "id": "bca7e10e",
   "metadata": {},
   "outputs": [
    {
     "name": "stdout",
     "output_type": "stream",
     "text": [
      "http://reed.cs.depaul.edu/lperkovic/csc242/test1.html\n",
      "[]\n"
     ]
    }
   ],
   "source": [
    "webdir('http://reed.cs.depaul.edu/lperkovic/csc242/test1.html', 2, 0)"
   ]
  },
  {
   "cell_type": "markdown",
   "id": "bdb08cdf",
   "metadata": {},
   "source": [
    "# Question 8"
   ]
  },
  {
   "cell_type": "markdown",
   "id": "992380c0",
   "metadata": {},
   "source": [
    "%%sql\n",
    "select Temperature from databasetable; --(a)\n",
    "\n",
    "select distinct City from databasetable; --(b)\n",
    "\n",
    "select * from databasetable\n",
    "where Country ='India'; --(c)\n",
    "\n",
    "select * from databasetable\n",
    "where Season = 'Fall'; --(d)\n",
    "\n",
    "select City, Country, Season from databasetable\n",
    "where Rainfall between 200 and 400; --(e)\n",
    "\n",
    "select City, Country from databasetable\n",
    "where Season = 'Fall' and Temperature > 20\n",
    "order by Temperature ASC; --(f)\n",
    "\n",
    "select sum(Temperature) from databasetable\n",
    "where City = 'Cairo'; --(g)\n",
    "\n",
    "select sum(Rainfall) from databasetable\n",
    "group by Season; --(f)"
   ]
  },
  {
   "cell_type": "markdown",
   "id": "dfd34f25",
   "metadata": {},
   "source": [
    "# Question 9"
   ]
  },
  {
   "cell_type": "code",
   "execution_count": 23,
   "id": "486866ef",
   "metadata": {},
   "outputs": [
    {
     "name": "stdout",
     "output_type": "stream",
     "text": [
      "\n",
      "['THE', 'QUICK', 'BROWN', 'FOX', 'JUMPS', 'OVER', 'THE', 'LAZY', 'DOG']\n"
     ]
    }
   ],
   "source": [
    "words = ['The','quick','brown','fox','jumps','over','the','lazy','dog'] #Given wordlist\n",
    "\n",
    "wordlist_a = [] #Array for part A\n",
    "wordlist_b = [] #Array for part B\n",
    "wordlist_c = [] #Array for part C\n",
    "wordlist_d = [] #Array for part D\n",
    "wordlist_e = [] #Array for part E\n",
    "\n",
    "for i in (words): #For every word in the given word list\n",
    "    wordlist_a.append(i.upper()) #Inserting uppercase of the word in the part A array\n",
    "    wordlist_b.append(i.lower()) #Inserting lower of the word in the part B array\n",
    "    wordlist_c.append(len(i)) #Inserting the lenght of the word in the part C array\n",
    "    \n",
    "    if (len(i)==4 or len(i)>4): #If the word lenght is 4 or more -> Could be simplified as \"if (len(i)>3\" -> Both works the same\n",
    "        wordlist_e.append(i) #Inserting the word in the part E array\n",
    "        \n",
    "for i in range(len(words)): #For the range of words in the given wordlist (number of words) -> Produces an integer for index\n",
    "    temporary_list=[] #Creating a temporary list that gets cleared in every iteration of the loop\n",
    "    temporary_list.append(wordlist_a[i]) #Inserting word from part A array into the temporary list at the given index\n",
    "    temporary_list.append(wordlist_b[i]) #Inserting word from part B array into the temporary list at the given index\n",
    "    temporary_list.append(wordlist_c[i]) #Inserting word from part C array into the temporary list at the given index\n",
    "    \n",
    "    wordlist_d.append(temporary_list) #Inserting the whole temporary array into the part D array\n",
    "    \n",
    "#Print statements for the arrays created\n",
    "print ()\n",
    "print (wordlist_a)\n"
   ]
  },
  {
   "cell_type": "code",
   "execution_count": 24,
   "id": "e43e9df6",
   "metadata": {},
   "outputs": [
    {
     "name": "stdout",
     "output_type": "stream",
     "text": [
      "['the', 'quick', 'brown', 'fox', 'jumps', 'over', 'the', 'lazy', 'dog']\n"
     ]
    }
   ],
   "source": [
    "print (wordlist_b)"
   ]
  },
  {
   "cell_type": "code",
   "execution_count": 25,
   "id": "889b05c0",
   "metadata": {},
   "outputs": [
    {
     "name": "stdout",
     "output_type": "stream",
     "text": [
      "[3, 5, 5, 3, 5, 4, 3, 4, 3]\n"
     ]
    }
   ],
   "source": [
    "print (wordlist_c)"
   ]
  },
  {
   "cell_type": "code",
   "execution_count": 26,
   "id": "34904914",
   "metadata": {},
   "outputs": [
    {
     "name": "stdout",
     "output_type": "stream",
     "text": [
      "[['THE', 'the', 3], ['QUICK', 'quick', 5], ['BROWN', 'brown', 5], ['FOX', 'fox', 3], ['JUMPS', 'jumps', 5], ['OVER', 'over', 4], ['THE', 'the', 3], ['LAZY', 'lazy', 4], ['DOG', 'dog', 3]]\n"
     ]
    }
   ],
   "source": [
    "print (wordlist_d)"
   ]
  },
  {
   "cell_type": "code",
   "execution_count": 27,
   "id": "4a0ae0fc",
   "metadata": {},
   "outputs": [
    {
     "name": "stdout",
     "output_type": "stream",
     "text": [
      "['quick', 'brown', 'jumps', 'over', 'lazy']\n"
     ]
    }
   ],
   "source": [
    "print (wordlist_e)"
   ]
  },
  {
   "cell_type": "code",
   "execution_count": null,
   "id": "53b77938",
   "metadata": {},
   "outputs": [],
   "source": []
  }
 ],
 "metadata": {
  "kernelspec": {
   "display_name": "Python 3 (ipykernel)",
   "language": "python",
   "name": "python3"
  },
  "language_info": {
   "codemirror_mode": {
    "name": "ipython",
    "version": 3
   },
   "file_extension": ".py",
   "mimetype": "text/x-python",
   "name": "python",
   "nbconvert_exporter": "python",
   "pygments_lexer": "ipython3",
   "version": "3.9.12"
  }
 },
 "nbformat": 4,
 "nbformat_minor": 5
}
